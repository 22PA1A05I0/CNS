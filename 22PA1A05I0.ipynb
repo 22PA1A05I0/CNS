{
  "nbformat": 4,
  "nbformat_minor": 0,
  "metadata": {
    "colab": {
      "private_outputs": true,
      "provenance": [],
      "authorship_tag": "ABX9TyMFP3zBpVFj9h1AXUzWLoSL",
      "include_colab_link": true
    },
    "kernelspec": {
      "name": "python3",
      "display_name": "Python 3"
    },
    "language_info": {
      "name": "python"
    }
  },
  "cells": [
    {
      "cell_type": "markdown",
      "metadata": {
        "id": "view-in-github",
        "colab_type": "text"
      },
      "source": [
        "<a href=\"https://colab.research.google.com/github/22PA1A05I0/CNS/blob/main/22PA1A05I0.ipynb\" target=\"_parent\"><img src=\"https://colab.research.google.com/assets/colab-badge.svg\" alt=\"Open In Colab\"/></a>"
      ]
    },
    {
      "cell_type": "code",
      "execution_count": null,
      "metadata": {
        "id": "riQp3Kk_GHVv"
      },
      "outputs": [],
      "source": [
        "import hashlib\n",
        "import os\n",
        "\n",
        "def hash_password(password, salt=None):\n",
        "    \"\"\"Hashes a password with a salt.\n",
        "\n",
        "    Args:\n",
        "        password: The password to hash (string).\n",
        "        salt: An optional salt (bytes). If None, a random salt is generated.\n",
        "\n",
        "    Returns:\n",
        "        A tuple containing the salt (bytes) and the hashed password (hex string).\n",
        "    \"\"\"\n",
        "    if salt is None:\n",
        "        salt = os.urandom(16)  # Generate a 16-byte random salt\n",
        "\n",
        "    salted_password = salt + password.encode('utf-8')\n",
        "    hashed_password = hashlib.sha256(salted_password).hexdigest()\n",
        "    return salt, hashed_password\n",
        "\n",
        "def verify_password(stored_salt, stored_hash, password):\n",
        "    \"\"\"Verifies a password against a stored hash and salt.\n",
        "\n",
        "    Args:\n",
        "        stored_salt: The stored salt (bytes).\n",
        "        stored_hash: The stored hash (hex string).\n",
        "        password: The password to verify (string).\n",
        "\n",
        "    Returns:\n",
        "        True if the password matches, False otherwise.\n",
        "    \"\"\"\n",
        "    salted_password = stored_salt + password.encode('utf-8')\n",
        "    hashed_password = hashlib.sha256(salted_password).hexdigest()\n",
        "    return hashed_password == stored_hash\n",
        "\n",
        "# Example usage (Storing a password):\n",
        "password = \"mysecretpassword\"\n",
        "salt, hashed_password = hash_password(password)\n",
        "\n",
        "# Store the salt and hashed password in your database (or file, etc.)\n",
        "# In a real application, never store passwords in plain text!\n",
        "stored_salt = salt\n",
        "stored_hash = hashed_password\n",
        "\n",
        "print(f\"Stored Salt: {stored_salt.hex()}\")\n",
        "print(f\"Stored Hash: {stored_hash}\")\n",
        "\n",
        "# Example usage (Verifying a password):\n",
        "user_input_password = \"mysecretpassword\"\n",
        "is_valid = verify_password(stored_salt, stored_hash, user_input_password)\n",
        "\n",
        "if is_valid:\n",
        "    print(\"Password verified successfully!\")\n",
        "else:\n",
        "    print(\"Password verification failed.\")\n",
        "\n",
        "user_input_incorrect_password = \"wrongpassword\"\n",
        "is_valid = verify_password(stored_salt, stored_hash, user_input_incorrect_password)\n",
        "\n",
        "if is_valid:\n",
        "    print(\"Password verified successfully!\")\n",
        "else:\n",
        "    print(\"Password verification failed.\")\n",
        "\n",
        "#Example of storing multiple passwords\n",
        "users = {} #In a real application, this would be a database.\n",
        "\n",
        "def register_user(username, password):\n",
        "    salt, hashed_password = hash_password(password)\n",
        "    users[username] = {\"salt\": salt, \"hash\": hashed_password}\n",
        "\n",
        "def login_user(username, password):\n",
        "    if username in users:\n",
        "        user_data = users[username]\n",
        "        return verify_password(user_data[\"salt\"], user_data[\"hash\"], password)\n",
        "    else:\n",
        "        return False\n",
        "\n",
        "register_user(\"alice\", \"alicespassword\")\n",
        "register_user(\"bob\", \"bobspassword\")\n",
        "\n",
        "print(f\"Alice login: {login_user('alice', 'alicespassword')}\")\n",
        "print(f\"Bob login: {login_user('bob', 'wrongpassword')}\") #Intentional wrong password.\n",
        "print(f\"Charlie login: {login_user('charlie', 'charliespassword')}\") #Nonexistent user."
      ]
    }
  ]
}